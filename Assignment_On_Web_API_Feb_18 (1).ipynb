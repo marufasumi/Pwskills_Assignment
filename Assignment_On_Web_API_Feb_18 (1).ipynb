{
 "cells": [
  {
   "cell_type": "markdown",
   "id": "fe831d7a",
   "metadata": {},
   "source": [
    "Q1. What is an API? Give an example, where an API is used in real life."
   ]
  },
  {
   "cell_type": "raw",
   "id": "36da5428",
   "metadata": {},
   "source": [
    "API(Application Programming Interface)\n",
    "An API is the interface that allows two independent software components to exchange information. An API acts as an intermediary between internal software functions and external ones, creating an exchange of information so seamless that it often goes unnoticed by the end user.\n",
    "\n",
    "Real life use of API:\n",
    "\n",
    "Private APIs are used by financial organizations such as banks to track and manage checking accounts, credit cards, and other accounts.\n",
    "\n",
    "APIs are used by retail companies to connect with courier networks, ensuring that shipments are picked up as soon as possible and tracked as they move.\n",
    "\n",
    "APIs are used in web applications to connect user-facing front ends with critical back-end functionality and data.\n",
    "\n",
    "APIs are used to deliver material by streaming services such as Spotify and Netflix.\n",
    "\n",
    "APIs are used by automakers such as Tesla to provide software upgrades. Others utilize APIs to make automotive data available to third parties.\n"
   ]
  },
  {
   "cell_type": "markdown",
   "id": "32c31cb0",
   "metadata": {},
   "source": [
    "Q2. Give advantages and disadvantages of using API."
   ]
  },
  {
   "cell_type": "raw",
   "id": "401c0a6d",
   "metadata": {},
   "source": [
    "Advantages of using API:\n",
    "\n",
    "Applications:\n",
    "Access to APIs ensures more flexibility in information-transfer processes.\n",
    "\n",
    "Reach: \n",
    "APIs let you create layers in apps in order to distribute information to different audiences.\n",
    "Customization:\n",
    "Furthermore, it can serve as a solution to create different experiences for users, letting protocols, functions, and commands be adapted according to specific demands.\n",
    "\n",
    "Efficiency:\n",
    "When you have content that is automatically published and made available on different channels simultaneously, APIs allow for more efficient data distribution.\n",
    "\n",
    "Adaptability:\n",
    "One of the greatest benefits of APIs is the ability it has to adapt to changes through data migration and flexibility of services.\n",
    "\n",
    "Disadvantages of using API:\n",
    "=>Creating API is a very time-consuming process\n",
    "=>A fixed scale is necessary\n",
    "=>=Imprecise boundary delineation\n",
    "=>To create API, programming knowledge is necessary\n",
    "=>Maintenance cost is very high\n",
    "=>It can crash when testing API\n"
   ]
  },
  {
   "cell_type": "markdown",
   "id": "4879e50d",
   "metadata": {},
   "source": [
    "Q3. What is a Web API? Differentiate between API and Web API."
   ]
  },
  {
   "cell_type": "raw",
   "id": "2b5300cd",
   "metadata": {},
   "source": [
    "WEB API:\n",
    "API stands for Application Programming Interface.\n",
    "\n",
    "A Web API is an application programming interface for the Web.\n",
    "\n",
    "A Browser API can extend the functionality of a web browser.\n",
    "\n",
    "A Server API can extend the functionality of a web server.\n",
    "\n",
    "Diffrence between API and Web API\n",
    "In computer programming, an application programming interface (API) is a set of subroutine definitions, protocols, and tools for building software and applications.\n",
    "\n",
    "whereas,Web API as the name suggests, is an API over the web which can be accessed using HTTP protocol. It is a concept and not a technology. We can build Web API using different technologies such as Java, .NET etc. For example, Twitter's REST APIs provide programmatic access to read and write data using which we can integrate twitter's capabilities into our own application."
   ]
  },
  {
   "cell_type": "markdown",
   "id": "4bd3b8b5",
   "metadata": {},
   "source": [
    "Q4. Explain REST and SOAP Architecture. Mention shortcomings of SOAP."
   ]
  },
  {
   "cell_type": "raw",
   "id": "94189f65",
   "metadata": {},
   "source": [
    "REST API Architecture:\n",
    "REST stands for REpresentational State Transfer and API stands for Application Program Interface. REST is a software architectural style that defines the set of rules to be used for creating web services. Web services which follow the REST architectural style are known as RESTful web services. It allows requesting systems to access and manipulate web resources by using a uniform and predefined set of rules. Interaction in REST based systems happen through Internet’s Hypertext Transfer Protocol (HTTP). \n",
    "\n",
    "A Restful system consists of a:\n",
    "\n",
    "client who requests for the resources.\n",
    "server who has the resources.\n",
    "It is important to create REST API according to industry standards which results in ease of development and increase client adoption. \n",
    "\n",
    "Architectural Constraints of RESTful API: There are six architectural constraints which makes any web service are listed below:\n",
    "Uniform Interface\n",
    "Stateless\n",
    "Cacheable\n",
    "Client-Server\n",
    "Layered System\n",
    "Code on Demand\n",
    "The only optional constraint of REST architecture is code on demand. If a service violates any other constraint, it cannot strictly be referred to as RESTful. \n",
    "\n",
    "\n",
    "SOAP API Architecture:\n",
    "SOAP (Simple Object Access Protocol) is a message protocol that enables the distributed elements of an application to communicate. SOAP can be carried over a variety of standard protocols, including the web-related Hypertext Transfer Protocol (HTTP).\n",
    "\n",
    "SOAP was developed as an intermediate language for applications that have different programming languages, enabling these applications to communicate with each other over the internet. SOAP is flexible and independent, which enables developers to write SOAP application programming interfaces (APIs) in different languages while also adding features and functionality.\n",
    "\n",
    "SOAP is a lightweight protocol used to create web APIs, usually with Extensible Markup Language (XML). It supports a wide range of communication protocols across the internet, HTTP, Simple Mail Transfer Protocol (SMTP) and Transmission Control Protocol. The SOAP approach defines how a SOAP message is processed, the features and modules included, the communication protocols supported and the construction of SOAP messages. SOAP uses the XML Information Set as a message format and relies on application layer protocols, like HTTP, for message transmission and negotiation.\n",
    "\n",
    "SOAP building blocks and message structure example\n",
    "Simple Object Access Protocol, as a specification, defines SOAP messages that are sent to web services and client applications. SOAP messages are XML documents that are comprised of the following three basic building blocks:\n",
    "\n",
    "1.The SOAP Envelope encapsulates all the data in a message and identifies the XML document as a SOAP message.\n",
    "\n",
    "2.The Header element contains additional information about the SOAP message. This information could be authentication credentials, for example, which are used by the calling application.\n",
    "\n",
    "3.The Body element includes the details of the actual message that need to be sent from the web service to the calling application. This data includes call and response information.\n"
   ]
  },
  {
   "cell_type": "markdown",
   "id": "0300fffb",
   "metadata": {},
   "source": [
    "Q5. Differentiate between REST and SOAP."
   ]
  },
  {
   "cell_type": "raw",
   "id": "546df0fd",
   "metadata": {},
   "source": [
    "Diffrence between REST and SOAP are below:\n",
    "SOAP\n",
    "1.SOAP stands for Simple Object Access Protocol\n",
    "2.SOAP is a protocol. SOAP was designed with a specification. It includes a WSDL file which has the required information on what the web service does in addition to the location of the web service.\n",
    "3.SOAP cannot make use of REST since SOAP is a protocol and REST is an architectural pattern.\n",
    "4.SOAP uses service interfaces to expose its functionality to client applications. In SOAP, the WSDL file provides the client with the necessary information which can be used to understand what services the web service can offer.\n",
    "5.SOAP requires more bandwidth for its usage. Since SOAP Messages contain a lot of information inside of it, the amount of data transfer using SOAP is generally a lot.\n",
    "6.SOAP can only work with XML format. As seen from SOAP messages, all data passed is in XML format.\n",
    "\n",
    "REST\n",
    "1.REST stands for Representational State Transfer\n",
    "2.REST is an Architectural style in which a web service can only be treated as a RESTful service if it follows the constraints of being\n",
    "Client Server\n",
    "Stateless\n",
    "Cacheable\n",
    "Layered System\n",
    "Uniform Interface\n",
    "3.REST can make use of SOAP as the underlying protocol for web services, because in the end it is just an architectural pattern.\n",
    "4.REST use Uniform Service locators to access to the components on the hardware device. For example, if there is an object which represents the data of an employee hosted on a URL as http://demo.guru99 , the below are some of URI that can exist to access them.\n",
    "5.REST does not need much bandwidth when requests are sent to the server. REST messages mostly just consist of JSON messages. Below is an example of a JSON message passed to a web server. You can see that the size of the message is comparatively smaller to SOAP.\n",
    "6.REST permits different data format such as Plain text, HTML, XML, JSON, etc. But the most preferred format for transferring data is JSON."
   ]
  }
 ],
 "metadata": {
  "kernelspec": {
   "display_name": "Python 3 (ipykernel)",
   "language": "python",
   "name": "python3"
  },
  "language_info": {
   "codemirror_mode": {
    "name": "ipython",
    "version": 3
   },
   "file_extension": ".py",
   "mimetype": "text/x-python",
   "name": "python",
   "nbconvert_exporter": "python",
   "pygments_lexer": "ipython3",
   "version": "3.9.13"
  }
 },
 "nbformat": 4,
 "nbformat_minor": 5
}

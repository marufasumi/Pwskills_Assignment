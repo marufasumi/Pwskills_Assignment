{
 "cells": [
  {
   "cell_type": "markdown",
   "id": "afda935d",
   "metadata": {},
   "source": [
    "# Q1. Explain why we have to use the Exception class while creating a Custom Exception.\n",
    "Note: Here Exception class refers to the base class for all the exceptions."
   ]
  },
  {
   "cell_type": "markdown",
   "id": "993285ee",
   "metadata": {},
   "source": [
    "Like other high-level languages, there are some exceptions in python also. When a problem occurs, it raises an exception. There are different kind of exceptions like ZeroDivisionError, AssertionError etc. All exception classes are derived from the BaseException class.\n",
    "\n",
    "The code can run built in exceptions, or we can also raise these exceptions in the code. User can derive their own exception from the Exception class, or from any other child class of Exception class.\n",
    "\n",
    "The BaseException is the base class of all other exceptions. User defined classes cannot be directly derived from this class, to derive user defied class, we need to use Exception class."
   ]
  },
  {
   "cell_type": "markdown",
   "id": "3b84ea16",
   "metadata": {},
   "source": [
    "# Q2. Write a python program to print Python Exception Hierarchy."
   ]
  },
  {
   "cell_type": "code",
   "execution_count": 21,
   "id": "42a9f384",
   "metadata": {},
   "outputs": [
    {
     "name": "stdout",
     "output_type": "stream",
     "text": [
      "[Errno 2] No such file or directory: 'test0.txt'\n",
      "this will always execute\n"
     ]
    }
   ],
   "source": [
    "#The Python Exception Hierarchy is like below.\n",
    "#1.BaseException\n",
    "#2.Exception\n",
    "try:\n",
    "    with open(\"test0.txt\",\"r\") as f:\n",
    "        f.read()\n",
    "except Exception as e:    ##superclass should not be written in very first place\n",
    "    print(e)\n",
    "except FileNotFoundError as e:\n",
    "    print(\"This is not fileNotFoundError\",e) #This block will not execute beacuse of the superclass\n",
    "finally:\n",
    "    print(\"this will always execute\") ##This block execute at any cost"
   ]
  },
  {
   "cell_type": "markdown",
   "id": "a926c5a4",
   "metadata": {},
   "source": [
    "# Q.3 What errors are defined in the ArithmeticError class? Explain any two with an example."
   ]
  },
  {
   "cell_type": "markdown",
   "id": "0c4cfc92",
   "metadata": {},
   "source": [
    "# Arithmetic error\n",
    "The arithmetic error occurs when an error is encountered during numeric calculations in Python. This includes Zerodivision Error and Floating point error. In addition, zero division error is raised when you divide a numeric value by zero.\n",
    "Example of ArithmeticErrors are ZeroDivisionError, FloatingPointError, OverFlowError\n",
    "\n"
   ]
  },
  {
   "cell_type": "code",
   "execution_count": 1,
   "id": "c1f92efe",
   "metadata": {},
   "outputs": [
    {
     "ename": "ZeroDivisionError",
     "evalue": "division by zero",
     "output_type": "error",
     "traceback": [
      "\u001b[1;31m---------------------------------------------------------------------------\u001b[0m",
      "\u001b[1;31mZeroDivisionError\u001b[0m                         Traceback (most recent call last)",
      "\u001b[1;32m~\\AppData\\Local\\Temp\\ipykernel_19344\\2173838347.py\u001b[0m in \u001b[0;36m<module>\u001b[1;34m\u001b[0m\n\u001b[0;32m      1\u001b[0m \u001b[1;31m## Example of ZeroDivisionError\u001b[0m\u001b[1;33m\u001b[0m\u001b[1;33m\u001b[0m\u001b[0m\n\u001b[0;32m      2\u001b[0m \u001b[0ma\u001b[0m \u001b[1;33m=\u001b[0m \u001b[1;36m10\u001b[0m\u001b[1;33m\u001b[0m\u001b[1;33m\u001b[0m\u001b[0m\n\u001b[1;32m----> 3\u001b[1;33m \u001b[0mb\u001b[0m \u001b[1;33m=\u001b[0m \u001b[0ma\u001b[0m\u001b[1;33m/\u001b[0m\u001b[1;36m0\u001b[0m\u001b[1;33m\u001b[0m\u001b[1;33m\u001b[0m\u001b[0m\n\u001b[0m\u001b[0;32m      4\u001b[0m \u001b[0mb\u001b[0m\u001b[1;33m\u001b[0m\u001b[1;33m\u001b[0m\u001b[0m\n",
      "\u001b[1;31mZeroDivisionError\u001b[0m: division by zero"
     ]
    }
   ],
   "source": [
    "## Example of ZeroDivisionError\n",
    "a = 10\n",
    "b = a/0\n",
    "b"
   ]
  },
  {
   "cell_type": "markdown",
   "id": "4ad1b276",
   "metadata": {},
   "source": [
    "##Example of OverFlowError\n",
    "\n",
    "When an arithmetic operation exceeds the limits of the variable type, an OverflowError is raised. Long integers allocate more space as values grow, so they end up raising MemoryError. Floating point exception handling is not standardized, however. Regular integers are converted to long values as needed."
   ]
  },
  {
   "cell_type": "code",
   "execution_count": 37,
   "id": "f0e93cf1",
   "metadata": {},
   "outputs": [
    {
     "name": "stdout",
     "output_type": "stream",
     "text": [
      "Simple program for showing overflow error\n",
      "\n",
      "\n",
      "The exponential value is\n"
     ]
    },
    {
     "ename": "OverflowError",
     "evalue": "math range error",
     "output_type": "error",
     "traceback": [
      "\u001b[1;31m---------------------------------------------------------------------------\u001b[0m",
      "\u001b[1;31mOverflowError\u001b[0m                             Traceback (most recent call last)",
      "\u001b[1;32m~\\AppData\\Local\\Temp\\ipykernel_19344\\3233188138.py\u001b[0m in \u001b[0;36m<module>\u001b[1;34m\u001b[0m\n\u001b[0;32m      3\u001b[0m \u001b[1;32mimport\u001b[0m \u001b[0mmath\u001b[0m\u001b[1;33m\u001b[0m\u001b[1;33m\u001b[0m\u001b[0m\n\u001b[0;32m      4\u001b[0m \u001b[0mprint\u001b[0m\u001b[1;33m(\u001b[0m\u001b[1;34m\"The exponential value is\"\u001b[0m\u001b[1;33m)\u001b[0m\u001b[1;33m\u001b[0m\u001b[1;33m\u001b[0m\u001b[0m\n\u001b[1;32m----> 5\u001b[1;33m \u001b[0mprint\u001b[0m\u001b[1;33m(\u001b[0m\u001b[0mmath\u001b[0m\u001b[1;33m.\u001b[0m\u001b[0mexp\u001b[0m\u001b[1;33m(\u001b[0m\u001b[1;36m1000\u001b[0m\u001b[1;33m)\u001b[0m\u001b[1;33m)\u001b[0m\u001b[1;33m\u001b[0m\u001b[1;33m\u001b[0m\u001b[0m\n\u001b[0m",
      "\u001b[1;31mOverflowError\u001b[0m: math range error"
     ]
    }
   ],
   "source": [
    "print(\"Simple program for showing overflow error\")\n",
    "print(\"\\n\")\n",
    "import math\n",
    "print(\"The exponential value is\")\n",
    "print(math.exp(1000))\n"
   ]
  },
  {
   "cell_type": "markdown",
   "id": "60c1938b",
   "metadata": {},
   "source": [
    "Q4. Why LookupError class is used? Explain with an example KeyError and IndexError."
   ]
  },
  {
   "cell_type": "markdown",
   "id": "21eb0bc2",
   "metadata": {},
   "source": [
    "# Lookup error\n",
    "Lookup error is the base class for key error and index error. The key error is raised when a wrong key is used to access a dictionary value, i.e., using a key that is not in the dictionary. This error means that the key you use to access a dictionary is wrong.\n",
    "\n",
    " "
   ]
  },
  {
   "cell_type": "code",
   "execution_count": 3,
   "id": "924b1a97",
   "metadata": {},
   "outputs": [],
   "source": [
    "##example of keyError\n",
    "gender = {\"june\" :\"female\", \"john\":\"male\", \"kim\":\"male\"}"
   ]
  },
  {
   "cell_type": "code",
   "execution_count": 4,
   "id": "c314275f",
   "metadata": {},
   "outputs": [
    {
     "ename": "KeyError",
     "evalue": "'james'",
     "output_type": "error",
     "traceback": [
      "\u001b[1;31m---------------------------------------------------------------------------\u001b[0m",
      "\u001b[1;31mKeyError\u001b[0m                                  Traceback (most recent call last)",
      "\u001b[1;32m~\\AppData\\Local\\Temp\\ipykernel_19344\\2301925773.py\u001b[0m in \u001b[0;36m<module>\u001b[1;34m\u001b[0m\n\u001b[1;32m----> 1\u001b[1;33m \u001b[0mgender\u001b[0m\u001b[1;33m[\u001b[0m\u001b[1;34m\"james\"\u001b[0m\u001b[1;33m]\u001b[0m\u001b[1;33m\u001b[0m\u001b[1;33m\u001b[0m\u001b[0m\n\u001b[0m",
      "\u001b[1;31mKeyError\u001b[0m: 'james'"
     ]
    }
   ],
   "source": [
    "gender[\"james\"]"
   ]
  },
  {
   "cell_type": "code",
   "execution_count": 5,
   "id": "9a8cf6ed",
   "metadata": {},
   "outputs": [
    {
     "data": {
      "text/plain": [
       "'female'"
      ]
     },
     "execution_count": 5,
     "metadata": {},
     "output_type": "execute_result"
    }
   ],
   "source": [
    "gender[\"june\"]"
   ]
  },
  {
   "cell_type": "markdown",
   "id": "d16bb162",
   "metadata": {},
   "source": [
    "In the example above, we passed the name “James” to obtain James’ gender, and this will return a key error because the key used was not found in the dictionary."
   ]
  },
  {
   "cell_type": "code",
   "execution_count": 6,
   "id": "b7ac6ad3",
   "metadata": {},
   "outputs": [],
   "source": [
    "##Example of IndexError\n",
    "name = [\"january\", \"February\", \"March\",\"April\",\"May\" ]"
   ]
  },
  {
   "cell_type": "code",
   "execution_count": 7,
   "id": "ec3e9c56",
   "metadata": {},
   "outputs": [
    {
     "ename": "IndexError",
     "evalue": "list index out of range",
     "output_type": "error",
     "traceback": [
      "\u001b[1;31m---------------------------------------------------------------------------\u001b[0m",
      "\u001b[1;31mIndexError\u001b[0m                                Traceback (most recent call last)",
      "\u001b[1;32m~\\AppData\\Local\\Temp\\ipykernel_19344\\1832761533.py\u001b[0m in \u001b[0;36m<module>\u001b[1;34m\u001b[0m\n\u001b[1;32m----> 1\u001b[1;33m \u001b[0mprint\u001b[0m\u001b[1;33m(\u001b[0m\u001b[0mname\u001b[0m\u001b[1;33m[\u001b[0m\u001b[1;36m5\u001b[0m\u001b[1;33m]\u001b[0m\u001b[1;33m)\u001b[0m\u001b[1;33m\u001b[0m\u001b[1;33m\u001b[0m\u001b[0m\n\u001b[0m",
      "\u001b[1;31mIndexError\u001b[0m: list index out of range"
     ]
    }
   ],
   "source": [
    "print(name[5])  "
   ]
  },
  {
   "cell_type": "markdown",
   "id": "856ef544",
   "metadata": {},
   "source": [
    "In the example above index 5 does not exist that's why it is showing index error"
   ]
  },
  {
   "cell_type": "markdown",
   "id": "92920449",
   "metadata": {},
   "source": [
    "# Q5. Explain ImportError. What is ModuleNotFoundError?"
   ]
  },
  {
   "cell_type": "markdown",
   "id": "ea0ab9b9",
   "metadata": {},
   "source": [
    "In Python, we use “import” when we want to import any specific module in the Python program.\n",
    "In Python, to make or to allow the module contents available to the program we use import statements. \n",
    "Therefore when importing any module and there is any trouble in importing modules to the program then there is a chance of ImportError occurrence. \n",
    "There are two conditions when the ImportError will be raised. They are\n",
    "\n",
    "If the module does not exist.\n",
    "\n",
    "If we are trying to import submodule from the module"
   ]
  },
  {
   "cell_type": "markdown",
   "id": "6025d7cb",
   "metadata": {},
   "source": [
    "# ModuleNotFoundError\n",
    "\n",
    "If we try to import a module which does not exist in that case it will throw ModuleNotFoundError."
   ]
  },
  {
   "cell_type": "code",
   "execution_count": 12,
   "id": "39099519",
   "metadata": {},
   "outputs": [
    {
     "ename": "ModuleNotFoundError",
     "evalue": "No module named 'request'",
     "output_type": "error",
     "traceback": [
      "\u001b[1;31m---------------------------------------------------------------------------\u001b[0m",
      "\u001b[1;31mModuleNotFoundError\u001b[0m                       Traceback (most recent call last)",
      "\u001b[1;32m~\\AppData\\Local\\Temp\\ipykernel_19344\\3699299393.py\u001b[0m in \u001b[0;36m<module>\u001b[1;34m\u001b[0m\n\u001b[0;32m      1\u001b[0m \u001b[1;31m#example of ModuleNotFoundError\u001b[0m\u001b[1;33m\u001b[0m\u001b[1;33m\u001b[0m\u001b[0m\n\u001b[1;32m----> 2\u001b[1;33m \u001b[1;32mimport\u001b[0m \u001b[0mrequest\u001b[0m\u001b[1;33m\u001b[0m\u001b[1;33m\u001b[0m\u001b[0m\n\u001b[0m",
      "\u001b[1;31mModuleNotFoundError\u001b[0m: No module named 'request'"
     ]
    }
   ],
   "source": [
    "#example of ModuleNotFoundError\n",
    "import request"
   ]
  },
  {
   "cell_type": "markdown",
   "id": "e63ac98f",
   "metadata": {},
   "source": [
    "In the above sample code, we can see that we are importing a module named “request” which is not present in the downloaded Python library. Therefore it throws an ImportError which gives the message saying no module named “request”."
   ]
  },
  {
   "cell_type": "code",
   "execution_count": 13,
   "id": "21080ea4",
   "metadata": {},
   "outputs": [
    {
     "ename": "ImportError",
     "evalue": "The crypt module is not supported on Windows",
     "output_type": "error",
     "traceback": [
      "\u001b[1;31m---------------------------------------------------------------------------\u001b[0m",
      "\u001b[1;31mModuleNotFoundError\u001b[0m                       Traceback (most recent call last)",
      "\u001b[1;32mC:\\ProgramData\\Anaconda3\\lib\\crypt.py\u001b[0m in \u001b[0;36m<module>\u001b[1;34m\u001b[0m\n\u001b[0;32m      5\u001b[0m \u001b[1;32mtry\u001b[0m\u001b[1;33m:\u001b[0m\u001b[1;33m\u001b[0m\u001b[1;33m\u001b[0m\u001b[0m\n\u001b[1;32m----> 6\u001b[1;33m     \u001b[1;32mimport\u001b[0m \u001b[0m_crypt\u001b[0m\u001b[1;33m\u001b[0m\u001b[1;33m\u001b[0m\u001b[0m\n\u001b[0m\u001b[0;32m      7\u001b[0m \u001b[1;32mexcept\u001b[0m \u001b[0mModuleNotFoundError\u001b[0m\u001b[1;33m:\u001b[0m\u001b[1;33m\u001b[0m\u001b[1;33m\u001b[0m\u001b[0m\n",
      "\u001b[1;31mModuleNotFoundError\u001b[0m: No module named '_crypt'",
      "\nDuring handling of the above exception, another exception occurred:\n",
      "\u001b[1;31mImportError\u001b[0m                               Traceback (most recent call last)",
      "\u001b[1;32m~\\AppData\\Local\\Temp\\ipykernel_19344\\541474616.py\u001b[0m in \u001b[0;36m<module>\u001b[1;34m\u001b[0m\n\u001b[0;32m      1\u001b[0m \u001b[1;31m#Example 2\u001b[0m\u001b[1;33m\u001b[0m\u001b[1;33m\u001b[0m\u001b[0m\n\u001b[1;32m----> 2\u001b[1;33m \u001b[1;32mfrom\u001b[0m \u001b[0mcrypt\u001b[0m \u001b[1;32mimport\u001b[0m \u001b[0mpwd\u001b[0m\u001b[1;33m\u001b[0m\u001b[1;33m\u001b[0m\u001b[0m\n\u001b[0m",
      "\u001b[1;32mC:\\ProgramData\\Anaconda3\\lib\\crypt.py\u001b[0m in \u001b[0;36m<module>\u001b[1;34m\u001b[0m\n\u001b[0;32m      7\u001b[0m \u001b[1;32mexcept\u001b[0m \u001b[0mModuleNotFoundError\u001b[0m\u001b[1;33m:\u001b[0m\u001b[1;33m\u001b[0m\u001b[1;33m\u001b[0m\u001b[0m\n\u001b[0;32m      8\u001b[0m     \u001b[1;32mif\u001b[0m \u001b[0m_sys\u001b[0m\u001b[1;33m.\u001b[0m\u001b[0mplatform\u001b[0m \u001b[1;33m==\u001b[0m \u001b[1;34m'win32'\u001b[0m\u001b[1;33m:\u001b[0m\u001b[1;33m\u001b[0m\u001b[1;33m\u001b[0m\u001b[0m\n\u001b[1;32m----> 9\u001b[1;33m         \u001b[1;32mraise\u001b[0m \u001b[0mImportError\u001b[0m\u001b[1;33m(\u001b[0m\u001b[1;34m\"The crypt module is not supported on Windows\"\u001b[0m\u001b[1;33m)\u001b[0m\u001b[1;33m\u001b[0m\u001b[1;33m\u001b[0m\u001b[0m\n\u001b[0m\u001b[0;32m     10\u001b[0m     \u001b[1;32melse\u001b[0m\u001b[1;33m:\u001b[0m\u001b[1;33m\u001b[0m\u001b[1;33m\u001b[0m\u001b[0m\n\u001b[0;32m     11\u001b[0m         \u001b[1;32mraise\u001b[0m \u001b[0mImportError\u001b[0m\u001b[1;33m(\u001b[0m\u001b[1;34m\"The required _crypt module was not built as part of CPython\"\u001b[0m\u001b[1;33m)\u001b[0m\u001b[1;33m\u001b[0m\u001b[1;33m\u001b[0m\u001b[0m\n",
      "\u001b[1;31mImportError\u001b[0m: The crypt module is not supported on Windows"
     ]
    }
   ],
   "source": [
    "#Example 2\n",
    "from crypt import pwd"
   ]
  },
  {
   "cell_type": "markdown",
   "id": "f157e7e6",
   "metadata": {},
   "source": [
    "In the above program, we can see another way of importing modules. This also throws ImportError if the module is not present in the private Python library."
   ]
  },
  {
   "cell_type": "markdown",
   "id": "7f4ec102",
   "metadata": {},
   "source": [
    "# Q6. List down some best practices for exception handling in python.\n"
   ]
  },
  {
   "cell_type": "code",
   "execution_count": 14,
   "id": "d405afb5",
   "metadata": {},
   "outputs": [
    {
     "name": "stdout",
     "output_type": "stream",
     "text": [
      "division by zero\n"
     ]
    }
   ],
   "source": [
    "#Use always specific Exception\n",
    "try:\n",
    "    10/0\n",
    "except Exception as e: #we should write zero division error here\n",
    "    print(e)"
   ]
  },
  {
   "cell_type": "code",
   "execution_count": 15,
   "id": "634e6bd6",
   "metadata": {},
   "outputs": [
    {
     "name": "stdout",
     "output_type": "stream",
     "text": [
      "division by zero\n"
     ]
    }
   ],
   "source": [
    "try:\n",
    "    10/0\n",
    "except ZeroDivisionError as e:\n",
    "    print(e)"
   ]
  },
  {
   "cell_type": "code",
   "execution_count": 16,
   "id": "b76e5389",
   "metadata": {},
   "outputs": [
    {
     "name": "stdout",
     "output_type": "stream",
     "text": [
      "This is my zero division error i am handling\n"
     ]
    }
   ],
   "source": [
    "#print always a valid message\n",
    "try:\n",
    "    10/0\n",
    "except ZeroDivisionError as e:\n",
    "    print(\"This is my zero division error i am handling\")"
   ]
  },
  {
   "cell_type": "code",
   "execution_count": 17,
   "id": "a98033b2",
   "metadata": {},
   "outputs": [],
   "source": [
    "#Always try to log\n",
    "import logging\n",
    "logging.basicConfig(filename = \"error.log\", level = logging.ERROR)\n",
    "try:\n",
    "    10/0\n",
    "except ZeroDivisionError as e:\n",
    "    logging.error(\"This is my zero division error i am handling{}\".format(e))"
   ]
  },
  {
   "cell_type": "code",
   "execution_count": 18,
   "id": "bab397d2",
   "metadata": {},
   "outputs": [],
   "source": [
    "#Always avoid to write a multiple exception handling\n",
    "try:\n",
    "    10/0\n",
    "except FileNotFoundError as e:\n",
    "     logging.error(\"This is my File not found error error i am handling{}\".format(e))\n",
    "    \n",
    "except ZeroDivisionError as e:\n",
    "     logging.error(\"This is my zero division error i am handling{}\".format(e))\n",
    "    "
   ]
  },
  {
   "cell_type": "code",
   "execution_count": 19,
   "id": "c9171102",
   "metadata": {},
   "outputs": [],
   "source": [
    "#Always try to prepare proper documentation"
   ]
  },
  {
   "cell_type": "code",
   "execution_count": 20,
   "id": "4621043c",
   "metadata": {},
   "outputs": [],
   "source": [
    "#Clean up all the resources  -close the file if we open\n",
    "try:\n",
    "    with open(\"test.txt\", \"w\") as f:\n",
    "        f.write(\"This is my msg to file\")\n",
    "except FileNotFoundError as e:\n",
    "     logging.error(\"This is my zero division error i am handling{}\".format(e))\n",
    "finally:\n",
    "    f.close()\n",
    "    "
   ]
  },
  {
   "cell_type": "code",
   "execution_count": null,
   "id": "68f4086b",
   "metadata": {},
   "outputs": [],
   "source": []
  }
 ],
 "metadata": {
  "kernelspec": {
   "display_name": "Python 3 (ipykernel)",
   "language": "python",
   "name": "python3"
  },
  "language_info": {
   "codemirror_mode": {
    "name": "ipython",
    "version": 3
   },
   "file_extension": ".py",
   "mimetype": "text/x-python",
   "name": "python",
   "nbconvert_exporter": "python",
   "pygments_lexer": "ipython3",
   "version": "3.9.13"
  }
 },
 "nbformat": 4,
 "nbformat_minor": 5
}

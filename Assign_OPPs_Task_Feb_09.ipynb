{
 "cells": [
  {
   "cell_type": "markdown",
   "id": "96bca10a",
   "metadata": {},
   "source": [
    "Q.1 create a vehicle class with an init method having instance variable as name_of_vehicle ,max_speed and average_of_vehicle"
   ]
  },
  {
   "cell_type": "code",
   "execution_count": 2,
   "id": "fd5c8e72",
   "metadata": {},
   "outputs": [],
   "source": [
    "class vehicle:\n",
    "    def __init__(self,name_of_vehicle,max_speed, avg_of_vehicle):\n",
    "        self.name_of_vehicle = name_of_vehicle\n",
    "        self.max_speed = max_speed\n",
    "        self.avg_of_vehicle = avg_of_vehicle\n",
    "        \n",
    "        "
   ]
  },
  {
   "cell_type": "markdown",
   "id": "0f437643",
   "metadata": {},
   "source": [
    "Q.2 Create a child class from the vehicle class created in que 1, which will inherit he vehicle class. create a methid name seating_capacity which takes capacity as an argument and return the name of the vehicle and its seating capacity."
   ]
  },
  {
   "cell_type": "code",
   "execution_count": 4,
   "id": "6ca465db",
   "metadata": {},
   "outputs": [],
   "source": [
    "class car(vehicle):\n",
    "    def seating_capacity(self, capacity):\n",
    "        self.capacity = capacity\n",
    "        return capcity,name_of_vehicle\n",
    "    "
   ]
  },
  {
   "cell_type": "code",
   "execution_count": 8,
   "id": "d10d93c5",
   "metadata": {},
   "outputs": [],
   "source": [
    "obj_car = car(\"honda_accord\",80,60)"
   ]
  },
  {
   "cell_type": "code",
   "execution_count": 9,
   "id": "5c27900e",
   "metadata": {},
   "outputs": [],
   "source": [
    "obj_car.seating_capacity = 10"
   ]
  },
  {
   "cell_type": "code",
   "execution_count": 10,
   "id": "8942b0a3",
   "metadata": {},
   "outputs": [
    {
     "data": {
      "text/plain": [
       "10"
      ]
     },
     "execution_count": 10,
     "metadata": {},
     "output_type": "execute_result"
    }
   ],
   "source": [
    "obj_car.seating_capacity"
   ]
  },
  {
   "cell_type": "code",
   "execution_count": 12,
   "id": "296e5feb",
   "metadata": {},
   "outputs": [
    {
     "data": {
      "text/plain": [
       "'honda_accord'"
      ]
     },
     "execution_count": 12,
     "metadata": {},
     "output_type": "execute_result"
    }
   ],
   "source": [
    "obj_car.name_of_vehicle"
   ]
  },
  {
   "cell_type": "markdown",
   "id": "ef276c8c",
   "metadata": {},
   "source": [
    "Q.3 what is multiple inheritence? write a code to demonstrate the multiple inheritence.\n",
    "##Multiple inheritence\n",
    "The property of acquiring all the properties and behaviors of the parent object by an object is termed as Python inheritance. Python facilitates inheritance of a derived class from more than one base class which is also called as multiple inheritance in Python."
   ]
  },
  {
   "cell_type": "code",
   "execution_count": 30,
   "id": "0aef8b79",
   "metadata": {},
   "outputs": [],
   "source": [
    "##Example of multiple inheritence\n",
    "class Employee:\n",
    "    def Employee_name(self,name):\n",
    "        self.name = name\n",
    "        print(\"Employee name is \" + name)\n",
    "        \n",
    "class Salary:\n",
    "    def Employee_salary(self,salary):\n",
    "        self.salary = salary\n",
    "        print(\"Salary is \" + salary)\n",
    "        \n",
    "class Designation(Employee, Salary):\n",
    "    def Employee_Designation(self, designation):\n",
    "        self.designation = designation\n",
    "        print(\"Employee designation is \" +designation)\n",
    "\n",
    "       \n",
    " \n"
   ]
  },
  {
   "cell_type": "code",
   "execution_count": 31,
   "id": "e7216024",
   "metadata": {},
   "outputs": [],
   "source": [
    "obj_emp = Designation()"
   ]
  },
  {
   "cell_type": "code",
   "execution_count": 33,
   "id": "80094fb6",
   "metadata": {},
   "outputs": [
    {
     "name": "stdout",
     "output_type": "stream",
     "text": [
      "Employee name is Marufa Sumi\n",
      "Salary is 1234567\n",
      "Employee designation is Developer\n"
     ]
    }
   ],
   "source": [
    "obj_emp.Employee_name(\"Marufa Sumi\")\n",
    "obj_emp.Employee_salary(\"1234567\")\n",
    "obj_emp.Employee_Designation(\"Developer\")"
   ]
  },
  {
   "cell_type": "markdown",
   "id": "a6b0b170",
   "metadata": {},
   "source": [
    " Q 4: What are  Getter and Setter  in python? create a class and create a getter and setter method in this class.\n",
    " \n",
    "For the purpose of data encapsulation, most object oriented languages use getters and setters method. This is because we want to hide the attributes of a object class from other classes so that no accidental modification of the data happens by methods in other classes.\n",
    "\n",
    "As the name suggests, getters are the methods which help access the private attributes or get the value of the private attributes and setters are the methods which help change or set the value of private attributes."
   ]
  },
  {
   "cell_type": "code",
   "execution_count": 39,
   "id": "d619eab9",
   "metadata": {},
   "outputs": [],
   "source": [
    "#example\n",
    "class Year_graduated:\n",
    "    def __init__(self, year):\n",
    "        self.__year = year\n",
    "        \n",
    "##getter method\n",
    "    def get_year(self):\n",
    "        return self.__year\n",
    "##setter method\n",
    " \n",
    "    def set_year (self,a):\n",
    "        self.__year = a"
   ]
  },
  {
   "cell_type": "code",
   "execution_count": 40,
   "id": "01aae62f",
   "metadata": {},
   "outputs": [],
   "source": [
    "obj_year = Year_graduated(2012)"
   ]
  },
  {
   "cell_type": "code",
   "execution_count": 41,
   "id": "eaf5eebf",
   "metadata": {},
   "outputs": [
    {
     "name": "stdout",
     "output_type": "stream",
     "text": [
      "<__main__.Year_graduated object at 0x0000022CD1FD5D60>\n"
     ]
    }
   ],
   "source": [
    "print(obj_year)"
   ]
  },
  {
   "cell_type": "code",
   "execution_count": 42,
   "id": "6c897767",
   "metadata": {},
   "outputs": [
    {
     "name": "stdout",
     "output_type": "stream",
     "text": [
      "2012\n"
     ]
    }
   ],
   "source": [
    "print(obj_year.get_year())"
   ]
  },
  {
   "cell_type": "code",
   "execution_count": 46,
   "id": "5fef0545",
   "metadata": {},
   "outputs": [],
   "source": [
    "obj_year.set_year(2019)"
   ]
  },
  {
   "cell_type": "code",
   "execution_count": 47,
   "id": "1563e66c",
   "metadata": {},
   "outputs": [
    {
     "name": "stdout",
     "output_type": "stream",
     "text": [
      "2019\n"
     ]
    }
   ],
   "source": [
    "print(obj_year.get_year())"
   ]
  },
  {
   "cell_type": "markdown",
   "id": "683537db",
   "metadata": {},
   "source": [
    "#Q.5 waht is method overriding in python?Write a python code to demonstrate method overriding"
   ]
  },
  {
   "cell_type": "markdown",
   "id": "fada1a26",
   "metadata": {},
   "source": [
    "\n",
    "The method overriding in Python means creating two methods with the same name but differ in the programming logic.\n",
    "The concept of Method overriding allows us to change or override the Parent Class function in the Child Class.\n",
    "\n",
    "To override a method or perform method Overriding in Python Programming Language, you have to meet certain conditions, and they are:\n",
    "\n",
    "=>You can’t override a method within the same class. It means you have to do it in the child class using the Inheritance concept.\n",
    "\n",
    "=>To override the Parent Class method, you have to create a function in the Child with the same name and the same number of parameters."
   ]
  },
  {
   "cell_type": "code",
   "execution_count": 8,
   "id": "c240b667",
   "metadata": {},
   "outputs": [],
   "source": [
    "#example\n",
    "class Employee:\n",
    "    def message(self):\n",
    "        print(\"This message is from Employee\")\n",
    "class Department(Employee):\n",
    "    def message(self):\n",
    "        print(\"This message is from Department\")\n",
    "class Sales(Department):\n",
    "    def message(self):\n",
    "        print(\"This method is from sales\")"
   ]
  },
  {
   "cell_type": "code",
   "execution_count": 9,
   "id": "43096ed8",
   "metadata": {},
   "outputs": [],
   "source": [
    "obj_emp = Employee()\n",
    "obj_dept = Department()\n",
    "obj_sales = Sales()"
   ]
  },
  {
   "cell_type": "code",
   "execution_count": 10,
   "id": "025b7b0f",
   "metadata": {},
   "outputs": [
    {
     "name": "stdout",
     "output_type": "stream",
     "text": [
      "This message is from Employee\n",
      "This message is from Department\n",
      "This method is from sales\n"
     ]
    }
   ],
   "source": [
    "obj_emp.message()   #employee obj prining message from employee message\n",
    "obj_dept.message()  # department obj printing from deparment message\n",
    "obj_sales.message() # sales obj printing from sales message"
   ]
  },
  {
   "cell_type": "code",
   "execution_count": null,
   "id": "e3ddec5c",
   "metadata": {},
   "outputs": [],
   "source": []
  }
 ],
 "metadata": {
  "kernelspec": {
   "display_name": "Python 3 (ipykernel)",
   "language": "python",
   "name": "python3"
  },
  "language_info": {
   "codemirror_mode": {
    "name": "ipython",
    "version": 3
   },
   "file_extension": ".py",
   "mimetype": "text/x-python",
   "name": "python",
   "nbconvert_exporter": "python",
   "pygments_lexer": "ipython3",
   "version": "3.9.13"
  }
 },
 "nbformat": 4,
 "nbformat_minor": 5
}
